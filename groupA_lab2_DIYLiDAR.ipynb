{
 "cells": [
  {
   "cell_type": "markdown",
   "id": "8a6c524f",
   "metadata": {},
   "source": [
    "กลุ่ม A\n",
    "- นาย นรวิชญ์ ศรีสะระ 6610110526\n",
    "- นาย กิตติศักดิ์ แก้วพิชัย 67101100310\n",
    "- นาย ภราดา หลำเบ็นสะ 6710110306\n",
    "- นาย ศุภวิชญ์ ณรงค์ 6710110417"
   ]
  }
 ],
 "metadata": {
  "language_info": {
   "name": "python"
  }
 },
 "nbformat": 4,
 "nbformat_minor": 5
}
